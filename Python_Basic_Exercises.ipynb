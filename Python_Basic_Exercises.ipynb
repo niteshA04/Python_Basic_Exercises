{
 "cells": [
  {
   "cell_type": "markdown",
   "id": "86526203",
   "metadata": {},
   "source": [
    "# Exercise 1: Calculate the multiplication and sum of two numbers"
   ]
  },
  {
   "cell_type": "code",
   "execution_count": 1,
   "id": "82c674bd",
   "metadata": {},
   "outputs": [
    {
     "name": "stdout",
     "output_type": "stream",
     "text": [
      "The addition of the 2 no's is: 63\n",
      "The Multiplication of the 2 no's is: 986\n"
     ]
    }
   ],
   "source": [
    "num1 = 29\n",
    "num2 = 34\n",
    "addition = num1+num2\n",
    "print(\"The addition of the 2 no's is:\", addition)\n",
    "\n",
    "multi = num1*num2\n",
    "print(\"The Multiplication of the 2 no's is:\", multi)"
   ]
  },
  {
   "cell_type": "markdown",
   "id": "2602752f",
   "metadata": {},
   "source": [
    "# Exercise 2: Print the sum of the current number and the previous number"
   ]
  },
  {
   "cell_type": "code",
   "execution_count": 4,
   "id": "f5fcfba7",
   "metadata": {},
   "outputs": [
    {
     "name": "stdout",
     "output_type": "stream",
     "text": [
      "Current No. 1 Previous No. 0 Adition of two no. 1\n",
      "Current No. 2 Previous No. 1 Adition of two no. 3\n",
      "Current No. 3 Previous No. 2 Adition of two no. 5\n",
      "Current No. 4 Previous No. 3 Adition of two no. 7\n",
      "Current No. 5 Previous No. 4 Adition of two no. 9\n",
      "Current No. 6 Previous No. 5 Adition of two no. 11\n",
      "Current No. 7 Previous No. 6 Adition of two no. 13\n",
      "Current No. 8 Previous No. 7 Adition of two no. 15\n",
      "Current No. 9 Previous No. 8 Adition of two no. 17\n",
      "Current No. 10 Previous No. 9 Adition of two no. 19\n"
     ]
    }
   ],
   "source": [
    "previous_num = 0\n",
    "for i in range(1,11):\n",
    "    print(\"Current No.\", i, \"Previous No.\", previous_num, \"Adition of two no.\", previous_num + i)\n",
    "    previous_num = i"
   ]
  },
  {
   "cell_type": "markdown",
   "id": "32834fdc",
   "metadata": {},
   "source": [
    "# Exercise 3: Print characters from a string that are present at an even index number"
   ]
  },
  {
   "cell_type": "code",
   "execution_count": 2,
   "id": "f3caff84",
   "metadata": {},
   "outputs": [
    {
     "name": "stdout",
     "output_type": "stream",
     "text": [
      "Enter any string: Python is my favourite\n",
      "y\n",
      "h\n",
      "n\n",
      "i\n",
      " \n",
      "y\n",
      "f\n",
      "v\n",
      "u\n",
      "i\n",
      "e\n"
     ]
    }
   ],
   "source": [
    "inp_string = input(\"Enter any string: \")\n",
    "str_length = len(inp_string)\n",
    "x = list(inp_string)\n",
    "for i in x[1::2]:\n",
    "    print(i)"
   ]
  },
  {
   "cell_type": "markdown",
   "id": "ee2646d9",
   "metadata": {},
   "source": [
    "# Exercise 4: Remove first n characters from a string"
   ]
  },
  {
   "cell_type": "code",
   "execution_count": 10,
   "id": "a82d622e",
   "metadata": {},
   "outputs": [
    {
     "name": "stdout",
     "output_type": "stream",
     "text": [
      "Enter the string: Python is my favourite\n",
      "Enter the number of letters to remove: 7\n",
      "i s   m y   f a v o u r i t e\n"
     ]
    }
   ],
   "source": [
    "inp_str = input(\"Enter the string: \")\n",
    "len_str = len(inp_str)\n",
    "num = int(input(\"Enter the number of letters to remove: \"))\n",
    "\n",
    "lst_str = list(inp_str)\n",
    "\n",
    "if len_str < num:\n",
    "    print(\"Number of char to remove should be less than string\")\n",
    "else:\n",
    "    rem = lst_str[num:]\n",
    "    lstTostr = ' '.join(map(str, rem))\n",
    "    print(lstTostr)"
   ]
  },
  {
   "cell_type": "markdown",
   "id": "ed1c7dc8",
   "metadata": {},
   "source": [
    "# Exercise 5: Check if the first and last number of a list is the same"
   ]
  },
  {
   "cell_type": "code",
   "execution_count": 16,
   "id": "4e18b410",
   "metadata": {},
   "outputs": [
    {
     "name": "stdout",
     "output_type": "stream",
     "text": [
      "First and Last are Same\n",
      "Not Same\n"
     ]
    }
   ],
   "source": [
    "def fst_lst_same(n1):\n",
    "    num_list = n1\n",
    "    if num_list[0] == num_list[-1]:\n",
    "        print(\"First and Last are Same\")\n",
    "    else:\n",
    "        print(\"Not Same\")\n",
    "        \n",
    "fst_lst_same([10,20,30,40,50,10])\n",
    "\n",
    "fst_lst_same([10,20,30,40,50,1])"
   ]
  },
  {
   "cell_type": "markdown",
   "id": "82bc1feb",
   "metadata": {},
   "source": [
    "# Exercise 6: Display numbers divisible by 5 from a list"
   ]
  },
  {
   "cell_type": "code",
   "execution_count": 21,
   "id": "e027c891",
   "metadata": {},
   "outputs": [
    {
     "name": "stdout",
     "output_type": "stream",
     "text": [
      "10\n",
      "20\n",
      "55\n"
     ]
    }
   ],
   "source": [
    "list_ = [10, 20, 33, 46, 55]\n",
    "\n",
    "for i in list_:\n",
    "    if i%5==0:\n",
    "        print(i)"
   ]
  },
  {
   "cell_type": "markdown",
   "id": "923d2bfa",
   "metadata": {},
   "source": [
    "# Exercise 7: Return the count of a given substring from a string"
   ]
  },
  {
   "cell_type": "code",
   "execution_count": 25,
   "id": "d9d5bd41",
   "metadata": {},
   "outputs": [
    {
     "name": "stdout",
     "output_type": "stream",
     "text": [
      "2\n"
     ]
    }
   ],
   "source": [
    "str_x = \"Emma is good developer. Emma is a writer\"\n",
    "s = str_x.count(\"Emma\")\n",
    "print(s)"
   ]
  },
  {
   "cell_type": "markdown",
   "id": "3e94eacb",
   "metadata": {},
   "source": [
    "# Exercise 8: Print the following pattern"
   ]
  },
  {
   "attachments": {
    "image.png": {
     "image/png": "[encoded data removed]"
    }
   },
   "cell_type": "markdown",
   "id": "76945616",
   "metadata": {},
   "source": [
    "![image.png](attachment:image.png)"
   ]
  },
  {
   "cell_type": "code",
   "execution_count": 26,
   "id": "ab7e5f04",
   "metadata": {},
   "outputs": [
    {
     "name": "stdout",
     "output_type": "stream",
     "text": [
      "\n",
      "\n",
      "1 \n",
      "\n",
      "2 2 \n",
      "\n",
      "3 3 3 \n",
      "\n",
      "4 4 4 4 \n",
      "\n",
      "5 5 5 5 5 \n",
      "\n"
     ]
    }
   ],
   "source": [
    "for i in range(6):\n",
    "    for j in range(i):\n",
    "        print(i, end=' ')\n",
    "    print('\\n')"
   ]
  },
  {
   "cell_type": "markdown",
   "id": "4dd234bd",
   "metadata": {},
   "source": [
    "# Exercise 9: Check Palindrome Number"
   ]
  },
  {
   "cell_type": "code",
   "execution_count": 3,
   "id": "692aaead",
   "metadata": {},
   "outputs": [
    {
     "name": "stdout",
     "output_type": "stream",
     "text": [
      "Enter the number: 121\n",
      "The given number is Palindrome\n"
     ]
    }
   ],
   "source": [
    "inp_num = input(\"Enter the number: \")\n",
    "reverse = inp_num[::-1]\n",
    "\n",
    "if inp_num == reverse:\n",
    "    print(\"The given number is Palindrome\")\n",
    "else:\n",
    "    print(\"The given number is not palindrome\")"
   ]
  },
  {
   "cell_type": "markdown",
   "id": "1226d434",
   "metadata": {},
   "source": [
    "# Exercise 10: Create a new list from a two list using the following condition\n",
    "Given a two list of numbers, write a program to create a new list such that the new list should contain odd numbers from the first list and even numbers from the second list."
   ]
  },
  {
   "cell_type": "code",
   "execution_count": 7,
   "id": "ecef099e",
   "metadata": {},
   "outputs": [
    {
     "name": "stdout",
     "output_type": "stream",
     "text": [
      "[25, 35, 40, 60, 90]\n"
     ]
    }
   ],
   "source": [
    "list1 = [10, 20, 25, 30, 35]\n",
    "list2 = [40, 45, 60, 75, 90]\n",
    "\n",
    "new_list = []\n",
    "\n",
    "for i in list1:\n",
    "    if i%2 != 0:\n",
    "        new_list.append(i)\n",
    "    \n",
    "for i in list2:\n",
    "    if i%2 == 0:\n",
    "        new_list.append(i)\n",
    "        \n",
    "print(new_list)"
   ]
  },
  {
   "cell_type": "markdown",
   "id": "3c0aa4b9",
   "metadata": {},
   "source": [
    "# Exercise 11: Write a Program to extract each digit from an integer in the reverse order."
   ]
  },
  {
   "cell_type": "code",
   "execution_count": 8,
   "id": "e8a9da9c",
   "metadata": {},
   "outputs": [
    {
     "name": "stdout",
     "output_type": "stream",
     "text": [
      "Enter the number: 12345\n",
      "54321\n"
     ]
    }
   ],
   "source": [
    "num = input(\"Enter the number: \")\n",
    "reverse = num[::-1]\n",
    "print(reverse)"
   ]
  },
  {
   "cell_type": "markdown",
   "id": "0087cdd8",
   "metadata": {},
   "source": [
    "# Exercise 12: Print multiplication table form 1 to 10"
   ]
  },
  {
   "cell_type": "code",
   "execution_count": 12,
   "id": "f8eaa14c",
   "metadata": {},
   "outputs": [
    {
     "name": "stdout",
     "output_type": "stream",
     "text": [
      "0 0 0 0 0 0 0 0 0 0 \n",
      "\n",
      "0 1 2 3 4 5 6 7 8 9 \n",
      "\n",
      "0 2 4 6 8 10 12 14 16 18 \n",
      "\n",
      "0 3 6 9 12 15 18 21 24 27 \n",
      "\n",
      "0 4 8 12 16 20 24 28 32 36 \n",
      "\n",
      "0 5 10 15 20 25 30 35 40 45 \n",
      "\n",
      "0 6 12 18 24 30 36 42 48 54 \n",
      "\n",
      "0 7 14 21 28 35 42 49 56 63 \n",
      "\n",
      "0 8 16 24 32 40 48 56 64 72 \n",
      "\n",
      "0 9 18 27 36 45 54 63 72 81 \n",
      "\n",
      "0 10 20 30 40 50 60 70 80 90 \n",
      "\n"
     ]
    }
   ],
   "source": [
    "for i in range(11):\n",
    "    for j in range(10):\n",
    "        multi = i*j\n",
    "        print(multi, end=' ')\n",
    "    print('\\n')"
   ]
  },
  {
   "cell_type": "markdown",
   "id": "44b94601",
   "metadata": {},
   "source": [
    "# Exercise 13: Print downward Half-Pyramid Pattern with Star     "
   ]
  },
  {
   "attachments": {
    "image.png": {
     "image/png": "[encoded data removed]"
    }
   },
   "cell_type": "markdown",
   "id": "caca8750",
   "metadata": {},
   "source": [
    "![image.png](attachment:image.png)"
   ]
  },
  {
   "cell_type": "code",
   "execution_count": 16,
   "id": "482ff104",
   "metadata": {},
   "outputs": [
    {
     "name": "stdout",
     "output_type": "stream",
     "text": [
      "* * * * * \n",
      "* * * * \n",
      "* * * \n",
      "* * \n",
      "* \n"
     ]
    }
   ],
   "source": [
    "for i in range(5,0,-1):\n",
    "    print('* '*i)\n",
    "    "
   ]
  },
  {
   "cell_type": "markdown",
   "id": "9ddf54b8",
   "metadata": {},
   "source": [
    "# Exercise 14: Write a function called exponent(base, exp) that returns an int value of base raises to the power of exp."
   ]
  },
  {
   "cell_type": "code",
   "execution_count": 17,
   "id": "6e204bc0",
   "metadata": {},
   "outputs": [
    {
     "data": {
      "text/plain": [
       "4"
      ]
     },
     "execution_count": 17,
     "metadata": {},
     "output_type": "execute_result"
    }
   ],
   "source": [
    "def exponent(base, exp):\n",
    "    b = base\n",
    "    e = exp\n",
    "    result = b**e\n",
    "    return result\n",
    "\n",
    "exponent(2, 2)"
   ]
  },
  {
   "cell_type": "markdown",
   "id": "7aa19c25",
   "metadata": {},
   "source": [
    "# Exercise 12: Calculate income tax for the given income by adhering to the below rules\n"
   ]
  },
  {
   "attachments": {
    "image.png": {
     "image/png": "[encoded data removed]"
    }
   },
   "cell_type": "markdown",
   "id": "6cd7f536",
   "metadata": {},
   "source": [
    "![image.png](attachment:image.png)\n",
    "\n",
    "input_income = 45,000"
   ]
  },
  {
   "cell_type": "code",
   "execution_count": 18,
   "id": "046df2ce",
   "metadata": {},
   "outputs": [
    {
     "name": "stdout",
     "output_type": "stream",
     "text": [
      "Given income 45000\n",
      "Total tax to pay is 6000.0\n"
     ]
    }
   ],
   "source": [
    "income = 45000\n",
    "tax_payable = 0\n",
    "print(\"Given income\", income)\n",
    "\n",
    "if income <= 10000:\n",
    "    tax_payable = 0\n",
    "elif income <= 20000:\n",
    "    # no tax on first 10,000\n",
    "    x = income - 10000\n",
    "    # 10% tax\n",
    "    tax_payable = x * 10 / 100\n",
    "else:\n",
    "    # first 10,000\n",
    "    tax_payable = 0\n",
    "\n",
    "    # next 10,000 10% tax\n",
    "    tax_payable = 10000 * 10 / 100\n",
    "\n",
    "    # remaining 20%tax\n",
    "    tax_payable += (income - 20000) * 20 / 100\n",
    "\n",
    "print(\"Total tax to pay is\", tax_payable)"
   ]
  }
 ],
 "metadata": {
  "kernelspec": {
   "display_name": "Python 3",
   "language": "python",
   "name": "python3"
  },
  "language_info": {
   "codemirror_mode": {
    "name": "ipython",
    "version": 3
   },
   "file_extension": ".py",
   "mimetype": "text/x-python",
   "name": "python",
   "nbconvert_exporter": "python",
   "pygments_lexer": "ipython3",
   "version": "3.8.8"
  }
 },
 "nbformat": 4,
 "nbformat_minor": 5
}
